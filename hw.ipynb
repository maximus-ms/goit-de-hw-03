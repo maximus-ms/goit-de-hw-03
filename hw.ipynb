{
 "cells": [
  {
   "cell_type": "markdown",
   "metadata": {},
   "source": [
    "## Домашнє завдання. Аналіз даних у PySpark"
   ]
  },
  {
   "cell_type": "markdown",
   "metadata": {},
   "source": [
    "###  1. Завантажте та прочитайте кожен CSV-файл як окремий DataFrame."
   ]
  },
  {
   "cell_type": "code",
   "execution_count": 1,
   "metadata": {},
   "outputs": [],
   "source": [
    "from pyspark import SparkConf\n",
    "from pyspark.sql import SparkSession\n",
    "from pyspark.sql.functions import col, sum, bround"
   ]
  },
  {
   "cell_type": "code",
   "execution_count": 2,
   "metadata": {},
   "outputs": [],
   "source": [
    "conf = SparkConf() \\\n",
    "    .setAppName(\"goit-de-hw-03\") \\\n",
    "    .setMaster(\"spark://AMD:7077\")"
   ]
  },
  {
   "cell_type": "code",
   "execution_count": 3,
   "metadata": {},
   "outputs": [
    {
     "name": "stderr",
     "output_type": "stream",
     "text": [
      "your 131072x1 screen size is bogus. expect trouble\n",
      "25/01/24 02:10:53 WARN Utils: Your hostname, AMD resolves to a loopback address: 127.0.1.1; using 10.255.255.254 instead (on interface lo)\n",
      "25/01/24 02:10:53 WARN Utils: Set SPARK_LOCAL_IP if you need to bind to another address\n",
      "Setting default log level to \"WARN\".\n",
      "To adjust logging level use sc.setLogLevel(newLevel). For SparkR, use setLogLevel(newLevel).\n",
      "25/01/24 02:10:54 WARN NativeCodeLoader: Unable to load native-hadoop library for your platform... using builtin-java classes where applicable\n"
     ]
    }
   ],
   "source": [
    "spark = SparkSession.builder \\\n",
    "    .config(conf=conf) \\\n",
    "    .getOrCreate()"
   ]
  },
  {
   "cell_type": "code",
   "execution_count": 4,
   "metadata": {},
   "outputs": [],
   "source": [
    "users_fname = './data/users.csv'\n",
    "purchases_fname = './data/purchases.csv'\n",
    "products_fname = './data/products.csv'"
   ]
  },
  {
   "cell_type": "code",
   "execution_count": 5,
   "metadata": {},
   "outputs": [
    {
     "name": "stderr",
     "output_type": "stream",
     "text": [
      "                                                                                \r"
     ]
    }
   ],
   "source": [
    "users_df = spark.read.csv(users_fname, header=True)\n",
    "purchases_df = spark.read.csv(purchases_fname, header=True)\n",
    "products_df = spark.read.csv(products_fname, header=True)"
   ]
  },
  {
   "cell_type": "code",
   "execution_count": 6,
   "metadata": {},
   "outputs": [
    {
     "name": "stdout",
     "output_type": "stream",
     "text": [
      "+-------+------+---+-----------------+\n",
      "|user_id|  name|age|            email|\n",
      "+-------+------+---+-----------------+\n",
      "|      1|User_1| 45|user1@example.com|\n",
      "|      2|User_2| 48|user2@example.com|\n",
      "|      3|User_3| 36|user3@example.com|\n",
      "+-------+------+---+-----------------+\n",
      "only showing top 3 rows\n",
      "\n",
      "+-----------+-------+----------+----------+--------+\n",
      "|purchase_id|user_id|product_id|      date|quantity|\n",
      "+-----------+-------+----------+----------+--------+\n",
      "|          1|     52|         9|2022-01-01|       1|\n",
      "|          2|     93|        37|2022-01-02|       8|\n",
      "|          3|     15|        33|2022-01-03|       1|\n",
      "+-----------+-------+----------+----------+--------+\n",
      "only showing top 3 rows\n",
      "\n",
      "+----------+------------+-----------+-----+\n",
      "|product_id|product_name|   category|price|\n",
      "+----------+------------+-----------+-----+\n",
      "|         1|   Product_1|     Beauty|  8.3|\n",
      "|         2|   Product_2|       Home|  8.3|\n",
      "|         3|   Product_3|Electronics|  9.2|\n",
      "+----------+------------+-----------+-----+\n",
      "only showing top 3 rows\n",
      "\n"
     ]
    }
   ],
   "source": [
    "users_df.show(3)\n",
    "purchases_df.show(3)\n",
    "products_df.show(3)"
   ]
  },
  {
   "cell_type": "markdown",
   "metadata": {},
   "source": [
    "### 2. Очистіть дані, видаляючи будь-які рядки з пропущеними значеннями."
   ]
  },
  {
   "cell_type": "code",
   "execution_count": 7,
   "metadata": {},
   "outputs": [],
   "source": [
    "users_df = users_df.dropna() \\\n",
    "    .withColumn('age', col('age').cast('int'))\n",
    "\n",
    "purchases_df = purchases_df.dropna() \\\n",
    "    .withColumn('quantity', col('quantity').cast('int'))\n",
    "\n",
    "products_df = products_df.dropna() \\\n",
    "    .withColumn('price', col('price').cast('float'))"
   ]
  },
  {
   "cell_type": "code",
   "execution_count": 8,
   "metadata": {},
   "outputs": [
    {
     "name": "stdout",
     "output_type": "stream",
     "text": [
      "root\n",
      " |-- user_id: string (nullable = true)\n",
      " |-- name: string (nullable = true)\n",
      " |-- age: integer (nullable = true)\n",
      " |-- email: string (nullable = true)\n",
      "\n",
      "root\n",
      " |-- purchase_id: string (nullable = true)\n",
      " |-- user_id: string (nullable = true)\n",
      " |-- product_id: string (nullable = true)\n",
      " |-- date: string (nullable = true)\n",
      " |-- quantity: integer (nullable = true)\n",
      "\n",
      "root\n",
      " |-- product_id: string (nullable = true)\n",
      " |-- product_name: string (nullable = true)\n",
      " |-- category: string (nullable = true)\n",
      " |-- price: float (nullable = true)\n",
      "\n"
     ]
    }
   ],
   "source": [
    "users_df.printSchema()\n",
    "purchases_df.printSchema()\n",
    "products_df.printSchema()"
   ]
  },
  {
   "cell_type": "markdown",
   "metadata": {},
   "source": [
    "### 3. Визначте загальну суму покупок за кожною категорією продуктів."
   ]
  },
  {
   "cell_type": "code",
   "execution_count": 9,
   "metadata": {},
   "outputs": [],
   "source": [
    "def profit_per_category(df):\n",
    "    return df.join(\n",
    "            products_df.select('category', 'price', 'product_name', 'product_id'),\n",
    "            df.product_id == products_df.product_id,\n",
    "            'inner'\n",
    "        ) \\\n",
    "        .groupBy(df.product_id, 'product_name', 'category', 'price') \\\n",
    "        .agg(sum('quantity').alias('total_quantity')) \\\n",
    "        .withColumn(\"product_profit\", col(\"total_quantity\") * col(\"price\")) \\\n",
    "        .groupBy('category') \\\n",
    "        .agg(sum('product_profit').alias('total_profit')) \\\n",
    "        .orderBy(col('total_profit').desc()) \\\n",
    "        .withColumn('total_profit', bround(col('total_profit'), 2))"
   ]
  },
  {
   "cell_type": "code",
   "execution_count": 10,
   "metadata": {},
   "outputs": [
    {
     "name": "stdout",
     "output_type": "stream",
     "text": [
      "Total profit per category: \n",
      "+-----------+------------+\n",
      "|   category|total_profit|\n",
      "+-----------+------------+\n",
      "|     Sports|      1802.5|\n",
      "|       Home|      1523.5|\n",
      "|Electronics|      1174.8|\n",
      "|   Clothing|       790.3|\n",
      "|     Beauty|       459.9|\n",
      "+-----------+------------+\n",
      "\n"
     ]
    }
   ],
   "source": [
    "print('Total profit per category: ')\n",
    "profit_per_category(purchases_df).show()"
   ]
  },
  {
   "cell_type": "markdown",
   "metadata": {},
   "source": [
    "### 4. Визначте суму покупок за кожною категорією продуктів для вікової категорії від 18 до 25 включно."
   ]
  },
  {
   "cell_type": "code",
   "execution_count": 11,
   "metadata": {},
   "outputs": [
    {
     "name": "stdout",
     "output_type": "stream",
     "text": [
      "Profit per category for users between 18 and 25: \n",
      "+-----------+------------+\n",
      "|   category|total_profit|\n",
      "+-----------+------------+\n",
      "|       Home|       361.1|\n",
      "|     Sports|       310.5|\n",
      "|Electronics|       249.6|\n",
      "|   Clothing|       245.0|\n",
      "|     Beauty|        41.4|\n",
      "+-----------+------------+\n",
      "\n"
     ]
    }
   ],
   "source": [
    "purchases_18_25_df = purchases_df.join(\n",
    "        users_df.select('user_id', 'age'),\n",
    "        purchases_df.user_id == users_df.user_id,\n",
    "        'inner'\n",
    "    ) \\\n",
    "    .where(col(\"age\").between(18, 25)) \\\n",
    "    .drop('age', 'user_id', 'date') \\\n",
    "\n",
    "profit_18_25_df = profit_per_category(purchases_18_25_df)\n",
    "\n",
    "print('Profit per category for users between 18 and 25: ')\n",
    "profit_18_25_df.show()"
   ]
  },
  {
   "cell_type": "markdown",
   "metadata": {},
   "source": [
    "### 5. Визначте частку покупок за кожною категорією товарів від сумарних витрат для вікової категорії від 18 до 25 років."
   ]
  },
  {
   "cell_type": "code",
   "execution_count": 12,
   "metadata": {},
   "outputs": [
    {
     "name": "stdout",
     "output_type": "stream",
     "text": [
      "Percentage of profit per category for users between 18 and 25: \n",
      "+-----------+------------+----------+\n",
      "|   category|total_profit|percentage|\n",
      "+-----------+------------+----------+\n",
      "|       Home|       361.1|      29.9|\n",
      "|     Sports|       310.5|     25.71|\n",
      "|Electronics|       249.6|     20.67|\n",
      "|   Clothing|       245.0|     20.29|\n",
      "|     Beauty|        41.4|      3.43|\n",
      "+-----------+------------+----------+\n",
      "\n"
     ]
    }
   ],
   "source": [
    "overall_profit_18_25 = profit_18_25_df.agg(sum('total_profit')).collect()[0][0]\n",
    "\n",
    "profit_percent_18_25_df = profit_18_25_df \\\n",
    "    .withColumn('percentage', col('total_profit') / overall_profit_18_25 * 100) \\\n",
    "    .withColumn('percentage', bround(col('percentage'), 2)) \\\n",
    "    .orderBy(col('percentage').desc()) \\\n",
    "\n",
    "print('Percentage of profit per category for users between 18 and 25: ')\n",
    "profit_percent_18_25_df.show()\n"
   ]
  },
  {
   "cell_type": "markdown",
   "metadata": {},
   "source": [
    "### 6. Виберіть 3 категорії продуктів з найвищим відсотком витрат споживачами віком від 18 до 25 років."
   ]
  },
  {
   "cell_type": "code",
   "execution_count": 13,
   "metadata": {},
   "outputs": [
    {
     "name": "stdout",
     "output_type": "stream",
     "text": [
      "Percentage of profit per category for users between 18 and 25 (top 3): \n",
      "+-----------+----------+\n",
      "|   category|percentage|\n",
      "+-----------+----------+\n",
      "|       Home|      29.9|\n",
      "|     Sports|     25.71|\n",
      "|Electronics|     20.67|\n",
      "+-----------+----------+\n",
      "only showing top 3 rows\n",
      "\n"
     ]
    }
   ],
   "source": [
    "print('Percentage of profit per category for users between 18 and 25 (top 3): ')\n",
    "profit_percent_18_25_df.select('category', 'percentage').show(3)"
   ]
  },
  {
   "cell_type": "code",
   "execution_count": 14,
   "metadata": {},
   "outputs": [],
   "source": [
    "spark.stop()"
   ]
  }
 ],
 "metadata": {
  "kernelspec": {
   "display_name": ".env3.12_mds_de",
   "language": "python",
   "name": "python3"
  },
  "language_info": {
   "codemirror_mode": {
    "name": "ipython",
    "version": 3
   },
   "file_extension": ".py",
   "mimetype": "text/x-python",
   "name": "python",
   "nbconvert_exporter": "python",
   "pygments_lexer": "ipython3",
   "version": "3.12.3"
  }
 },
 "nbformat": 4,
 "nbformat_minor": 2
}
